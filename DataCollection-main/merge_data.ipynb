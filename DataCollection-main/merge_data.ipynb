{
 "cells": [
  {
   "cell_type": "code",
   "execution_count": 71,
   "metadata": {},
   "outputs": [],
   "source": [
    "import pandas as pd"
   ]
  },
  {
   "cell_type": "code",
   "execution_count": 72,
   "metadata": {},
   "outputs": [],
   "source": [
    "info_df = pd.read_csv('./data/total_info_data.csv')\n",
    "download_df = pd.read_csv('./data/total_data.csv')"
   ]
  },
  {
   "cell_type": "code",
   "execution_count": 5,
   "metadata": {},
   "outputs": [
    {
     "data": {
      "text/html": [
       "<div>\n",
       "<style scoped>\n",
       "    .dataframe tbody tr th:only-of-type {\n",
       "        vertical-align: middle;\n",
       "    }\n",
       "\n",
       "    .dataframe tbody tr th {\n",
       "        vertical-align: top;\n",
       "    }\n",
       "\n",
       "    .dataframe thead th {\n",
       "        text-align: right;\n",
       "    }\n",
       "</style>\n",
       "<table border=\"1\" class=\"dataframe\">\n",
       "  <thead>\n",
       "    <tr style=\"text-align: right;\">\n",
       "      <th></th>\n",
       "      <th>area</th>\n",
       "      <th>rank_gs</th>\n",
       "      <th>title</th>\n",
       "      <th>rate_gs</th>\n",
       "      <th>rank_pc</th>\n",
       "      <th>rate_pc</th>\n",
       "      <th>rank_ss</th>\n",
       "      <th>rate_ss</th>\n",
       "      <th>agg_rate</th>\n",
       "      <th>agg_rank</th>\n",
       "      <th>rank</th>\n",
       "      <th>pdf_link</th>\n",
       "      <th>abstract</th>\n",
       "      <th>citationCount</th>\n",
       "      <th>referenceCount</th>\n",
       "      <th>influentialCitationCount</th>\n",
       "      <th>fieldsOfStudy</th>\n",
       "    </tr>\n",
       "  </thead>\n",
       "  <tbody>\n",
       "    <tr>\n",
       "      <th>0</th>\n",
       "      <td>3D Reconstruction</td>\n",
       "      <td>9.0</td>\n",
       "      <td>occupancy networks: learning 3d reconstruction...</td>\n",
       "      <td>5.0</td>\n",
       "      <td>18.0</td>\n",
       "      <td>5.0</td>\n",
       "      <td>1.0</td>\n",
       "      <td>5.0</td>\n",
       "      <td>5.0</td>\n",
       "      <td>10.2</td>\n",
       "      <td>1</td>\n",
       "      <td>http://openaccess.thecvf.com/content_CVPR_2019...</td>\n",
       "      <td>With the advent of deep neural networks, learn...</td>\n",
       "      <td>623.0</td>\n",
       "      <td>86.0</td>\n",
       "      <td>136.0</td>\n",
       "      <td>['Computer Science']</td>\n",
       "    </tr>\n",
       "    <tr>\n",
       "      <th>1</th>\n",
       "      <td>3D Reconstruction</td>\n",
       "      <td>68.0</td>\n",
       "      <td>weakly supervised 3d reconstruction with adver...</td>\n",
       "      <td>4.0</td>\n",
       "      <td>4.0</td>\n",
       "      <td>5.0</td>\n",
       "      <td>29.0</td>\n",
       "      <td>5.0</td>\n",
       "      <td>4.7</td>\n",
       "      <td>30.7</td>\n",
       "      <td>2</td>\n",
       "      <td>https://arxiv.org/pdf/1705.10904</td>\n",
       "      <td>Supervised 3D reconstruction has witnessed a s...</td>\n",
       "      <td>85.0</td>\n",
       "      <td>60.0</td>\n",
       "      <td>3.0</td>\n",
       "      <td>['Computer Science']</td>\n",
       "    </tr>\n",
       "    <tr>\n",
       "      <th>2</th>\n",
       "      <td>3D Reconstruction</td>\n",
       "      <td>95.0</td>\n",
       "      <td>infinitam v3: a framework for large-scale 3d r...</td>\n",
       "      <td>4.0</td>\n",
       "      <td>17.0</td>\n",
       "      <td>5.0</td>\n",
       "      <td>32.0</td>\n",
       "      <td>5.0</td>\n",
       "      <td>4.7</td>\n",
       "      <td>44.9</td>\n",
       "      <td>3</td>\n",
       "      <td>https://arxiv.org/pdf/1708.00783</td>\n",
       "      <td>Volumetric models have become a popular repres...</td>\n",
       "      <td>59.0</td>\n",
       "      <td>13.0</td>\n",
       "      <td>6.0</td>\n",
       "      <td>['Computer Science']</td>\n",
       "    </tr>\n",
       "    <tr>\n",
       "      <th>3</th>\n",
       "      <td>3D Reconstruction</td>\n",
       "      <td>30.0</td>\n",
       "      <td>pix2vox: context-aware 3d reconstruction from ...</td>\n",
       "      <td>5.0</td>\n",
       "      <td>45.0</td>\n",
       "      <td>4.0</td>\n",
       "      <td>5.0</td>\n",
       "      <td>5.0</td>\n",
       "      <td>4.6</td>\n",
       "      <td>28.5</td>\n",
       "      <td>4</td>\n",
       "      <td>http://openaccess.thecvf.com/content_ICCV_2019...</td>\n",
       "      <td>Recovering the 3D representation of an object ...</td>\n",
       "      <td>70.0</td>\n",
       "      <td>49.0</td>\n",
       "      <td>8.0</td>\n",
       "      <td>['Computer Science']</td>\n",
       "    </tr>\n",
       "    <tr>\n",
       "      <th>4</th>\n",
       "      <td>3D Reconstruction</td>\n",
       "      <td>33.0</td>\n",
       "      <td>image2mesh: a learning framework for single im...</td>\n",
       "      <td>5.0</td>\n",
       "      <td>94.0</td>\n",
       "      <td>4.0</td>\n",
       "      <td>15.0</td>\n",
       "      <td>5.0</td>\n",
       "      <td>4.6</td>\n",
       "      <td>52.0</td>\n",
       "      <td>5</td>\n",
       "      <td>https://arxiv.org/pdf/1711.10669</td>\n",
       "      <td>One challenge that remains open in 3D deep lea...</td>\n",
       "      <td>70.0</td>\n",
       "      <td>53.0</td>\n",
       "      <td>3.0</td>\n",
       "      <td>['Computer Science']</td>\n",
       "    </tr>\n",
       "  </tbody>\n",
       "</table>\n",
       "</div>"
      ],
      "text/plain": [
       "                area  rank_gs  \\\n",
       "0  3D Reconstruction      9.0   \n",
       "1  3D Reconstruction     68.0   \n",
       "2  3D Reconstruction     95.0   \n",
       "3  3D Reconstruction     30.0   \n",
       "4  3D Reconstruction     33.0   \n",
       "\n",
       "                                               title  rate_gs  rank_pc  \\\n",
       "0  occupancy networks: learning 3d reconstruction...      5.0     18.0   \n",
       "1  weakly supervised 3d reconstruction with adver...      4.0      4.0   \n",
       "2  infinitam v3: a framework for large-scale 3d r...      4.0     17.0   \n",
       "3  pix2vox: context-aware 3d reconstruction from ...      5.0     45.0   \n",
       "4  image2mesh: a learning framework for single im...      5.0     94.0   \n",
       "\n",
       "   rate_pc  rank_ss  rate_ss  agg_rate  agg_rank  rank  \\\n",
       "0      5.0      1.0      5.0       5.0      10.2     1   \n",
       "1      5.0     29.0      5.0       4.7      30.7     2   \n",
       "2      5.0     32.0      5.0       4.7      44.9     3   \n",
       "3      4.0      5.0      5.0       4.6      28.5     4   \n",
       "4      4.0     15.0      5.0       4.6      52.0     5   \n",
       "\n",
       "                                            pdf_link  \\\n",
       "0  http://openaccess.thecvf.com/content_CVPR_2019...   \n",
       "1                   https://arxiv.org/pdf/1705.10904   \n",
       "2                   https://arxiv.org/pdf/1708.00783   \n",
       "3  http://openaccess.thecvf.com/content_ICCV_2019...   \n",
       "4                   https://arxiv.org/pdf/1711.10669   \n",
       "\n",
       "                                            abstract  citationCount  \\\n",
       "0  With the advent of deep neural networks, learn...          623.0   \n",
       "1  Supervised 3D reconstruction has witnessed a s...           85.0   \n",
       "2  Volumetric models have become a popular repres...           59.0   \n",
       "3  Recovering the 3D representation of an object ...           70.0   \n",
       "4  One challenge that remains open in 3D deep lea...           70.0   \n",
       "\n",
       "   referenceCount  influentialCitationCount         fieldsOfStudy  \n",
       "0            86.0                     136.0  ['Computer Science']  \n",
       "1            60.0                       3.0  ['Computer Science']  \n",
       "2            13.0                       6.0  ['Computer Science']  \n",
       "3            49.0                       8.0  ['Computer Science']  \n",
       "4            53.0                       3.0  ['Computer Science']  "
      ]
     },
     "execution_count": 5,
     "metadata": {},
     "output_type": "execute_result"
    }
   ],
   "source": [
    "info_df.head()"
   ]
  },
  {
   "cell_type": "code",
   "execution_count": 11,
   "metadata": {},
   "outputs": [],
   "source": [
    "download_df = download_df.sort_values(by=['area', 'agg_rate', 'agg_rank'], ascending=[True, False, True]).reset_index(drop=True)\n",
    "info_df = info_df.sort_values(by=['area', 'agg_rate', 'agg_rank'], ascending=[True, False, True]).reset_index(drop=True)"
   ]
  },
  {
   "cell_type": "code",
   "execution_count": 28,
   "metadata": {},
   "outputs": [],
   "source": [
    "new_df = download_df.merge(info_df[['area','title', 'abstract', 'citationCount', 'referenceCount', 'influentialCitationCount']], on=['area','title'], how='left', suffixes=['_d','_i'])"
   ]
  },
  {
   "cell_type": "code",
   "execution_count": 31,
   "metadata": {},
   "outputs": [],
   "source": [
    "new_df['abstract_d'].fillna('',inplace=True)\n",
    "new_df['abstract_i'].fillna('',inplace=True)"
   ]
  },
  {
   "cell_type": "code",
   "execution_count": 34,
   "metadata": {},
   "outputs": [],
   "source": [
    "from tqdm import tqdm"
   ]
  },
  {
   "cell_type": "code",
   "execution_count": 36,
   "metadata": {},
   "outputs": [],
   "source": [
    "lack_df = new_df[new_df['abstract_d'] == '']"
   ]
  },
  {
   "cell_type": "code",
   "execution_count": 37,
   "metadata": {},
   "outputs": [
    {
     "name": "stderr",
     "output_type": "stream",
     "text": [
      "100%|██████████| 151/151 [00:27<00:00,  5.43it/s]\n"
     ]
    }
   ],
   "source": [
    "for idx, row in tqdm(lack_df.iterrows(),total=len(lack_df)):\n",
    "    if row['abstract_d'] == '':\n",
    "        row['abstract_d'] = row['abstract_i']\n",
    "    new_df.loc[idx] = row"
   ]
  },
  {
   "cell_type": "code",
   "execution_count": 40,
   "metadata": {},
   "outputs": [],
   "source": [
    "new_df = new_df.drop(columns='abstract_i')"
   ]
  },
  {
   "cell_type": "code",
   "execution_count": 43,
   "metadata": {},
   "outputs": [],
   "source": [
    "new_df = new_df.rename(columns={'abstract_d':'abstract'})"
   ]
  },
  {
   "cell_type": "code",
   "execution_count": 46,
   "metadata": {},
   "outputs": [],
   "source": [
    "new_df = new_df.drop(columns=['Unnamed: 0','Unnamed: 0.1', 'Unnamed: 0.1.1'])"
   ]
  },
  {
   "cell_type": "code",
   "execution_count": 48,
   "metadata": {},
   "outputs": [],
   "source": [
    "new_df = new_df.sort_values(by=['area', 'agg_rate', 'agg_rank'], ascending=[True, False, True]).reset_index(drop=True)\n",
    "new_df['rank'] = new_df.groupby('area').cumcount()+1"
   ]
  },
  {
   "cell_type": "code",
   "execution_count": 58,
   "metadata": {},
   "outputs": [
    {
     "data": {
      "text/plain": [
       "12623"
      ]
     },
     "execution_count": 58,
     "metadata": {},
     "output_type": "execute_result"
    }
   ],
   "source": [
    "len(info_df)"
   ]
  },
  {
   "cell_type": "code",
   "execution_count": 73,
   "metadata": {},
   "outputs": [],
   "source": [
    "download_df['abstract'].fillna('', inplace=True)\n",
    "info_df['abstract'].fillna('', inplace=True)"
   ]
  },
  {
   "cell_type": "code",
   "execution_count": 90,
   "metadata": {},
   "outputs": [],
   "source": [
    "lack_df = download_df[download_df['abstract'] == '']"
   ]
  },
  {
   "cell_type": "code",
   "execution_count": 91,
   "metadata": {},
   "outputs": [
    {
     "name": "stderr",
     "output_type": "stream",
     "text": [
      "100%|██████████| 115/115 [00:00<00:00, 238.30it/s]\n"
     ]
    }
   ],
   "source": [
    "for idx, row in tqdm(lack_df.iterrows(),total=len(lack_df)):\n",
    "    title = row['title']\n",
    "    ser = info_df[info_df['title'] == title].iloc[0]\n",
    "    row['absrtact'] = ser['abstract']\n",
    "    download_df.loc[idx] = row"
   ]
  },
  {
   "cell_type": "code",
   "execution_count": 93,
   "metadata": {},
   "outputs": [],
   "source": [
    "download_df = download_df[download_df['abstract'] != '']"
   ]
  },
  {
   "cell_type": "code",
   "execution_count": 96,
   "metadata": {},
   "outputs": [],
   "source": [
    "download_df = download_df.drop(columns=['Unnamed: 0','Unnamed: 0.1','Unnamed: 0.1.1'])"
   ]
  },
  {
   "cell_type": "code",
   "execution_count": 108,
   "metadata": {},
   "outputs": [],
   "source": [
    "download_df = download_df.drop_duplicates(subset=['area','title'])"
   ]
  },
  {
   "cell_type": "code",
   "execution_count": 110,
   "metadata": {},
   "outputs": [
    {
     "data": {
      "text/plain": [
       "Index(['area', 'rank_gs', 'title', 'rate_gs', 'rank_pc', 'rate_pc', 'rank_ss',\n",
       "       'rate_ss', 'agg_rate', 'agg_rank', 'rank', 'pdf_link', 'abstract',\n",
       "       'citationCount', 'referenceCount', 'influentialCitationCount',\n",
       "       'fieldsOfStudy', 'file_name'],\n",
       "      dtype='object')"
      ]
     },
     "execution_count": 110,
     "metadata": {},
     "output_type": "execute_result"
    }
   ],
   "source": [
    "download_df.columns"
   ]
  },
  {
   "cell_type": "code",
   "execution_count": 111,
   "metadata": {},
   "outputs": [],
   "source": [
    "new_df = download_df[['area', 'rank_gs', 'title', 'rate_gs', 'rank_pc', 'rate_pc', 'rank_ss',\n",
    "       'rate_ss', 'agg_rate', 'agg_rank', 'rank', 'pdf_link', 'abstract',\n",
    "    'file_name']].merge(info_df[['area','title', 'citationCount', 'referenceCount', 'influentialCitationCount']], on=['area','title'], how='left', suffixes=['_d','_i'])"
   ]
  },
  {
   "cell_type": "code",
   "execution_count": 114,
   "metadata": {},
   "outputs": [],
   "source": [
    "new_df = new_df.drop_duplicates(subset=['area','title'])"
   ]
  },
  {
   "cell_type": "code",
   "execution_count": 119,
   "metadata": {},
   "outputs": [],
   "source": [
    "new_df = new_df.sort_values(by=['area', 'agg_rate', 'agg_rank'], ascending=[True, False, True]).reset_index(drop=True)\n",
    "new_df['rank'] = new_df.groupby('area').cumcount()+1"
   ]
  },
  {
   "cell_type": "code",
   "execution_count": 214,
   "metadata": {},
   "outputs": [],
   "source": [
    "new_new_df = new_df.drop_duplicates(subset=['area','pdf_link','abstract'])"
   ]
  },
  {
   "cell_type": "code",
   "execution_count": 215,
   "metadata": {},
   "outputs": [
    {
     "data": {
      "text/plain": [
       "1533"
      ]
     },
     "execution_count": 215,
     "metadata": {},
     "output_type": "execute_result"
    }
   ],
   "source": [
    "sum(new_new_df.duplicated('abstract'))"
   ]
  },
  {
   "cell_type": "code",
   "execution_count": 150,
   "metadata": {},
   "outputs": [],
   "source": [
    "import xmltodict\n",
    "import requests"
   ]
  },
  {
   "cell_type": "code",
   "execution_count": 229,
   "metadata": {},
   "outputs": [],
   "source": [
    "lack_abstract_df = new_new_df.loc[new_new_df.duplicated(['area','abstract'])]\n",
    "drop_idxs = []"
   ]
  },
  {
   "cell_type": "code",
   "execution_count": 231,
   "metadata": {},
   "outputs": [
    {
     "name": "stderr",
     "output_type": "stream",
     "text": [
      "100%|██████████| 858/858 [09:27<00:00,  1.51it/s]\n"
     ]
    }
   ],
   "source": [
    "lack_abstract_df = lack_abstract_df.drop(drop_idxs)\n",
    "drop_idxs = []\n",
    "for idx, paper in tqdm(lack_abstract_df.iterrows(), total = lack_abstract_df.shape[0]):\n",
    "    title_formatted = paper['title'].replace(' ', '+')\n",
    "    response = requests.get(f'http://export.arxiv.org/api/query?search_query=ti:{title_formatted}&start=0&max_results=1')\n",
    "    data = xmltodict.parse(response.text)['feed']\n",
    "    if 'entry' in data:\n",
    "        paper['abstract'] = data['entry']['summary'].replace('\\n',' ')\n",
    "    else:\n",
    "        drop_idxs.append(idx)\n",
    "    new_new_df.loc[idx] = paper"
   ]
  },
  {
   "cell_type": "code",
   "execution_count": 232,
   "metadata": {},
   "outputs": [],
   "source": [
    "new_new_df = new_new_df[new_new_df['abstract']!='']"
   ]
  },
  {
   "cell_type": "code",
   "execution_count": 234,
   "metadata": {},
   "outputs": [],
   "source": [
    "new_new_df = new_new_df.drop_duplicates(['area','abstract'])"
   ]
  },
  {
   "cell_type": "code",
   "execution_count": 219,
   "metadata": {},
   "outputs": [],
   "source": [
    "lack_link_df = new_new_df[new_new_df.duplicated(['area','pdf_link'])]\n",
    "drop_idxs = []"
   ]
  },
  {
   "cell_type": "code",
   "execution_count": 220,
   "metadata": {},
   "outputs": [
    {
     "name": "stderr",
     "output_type": "stream",
     "text": [
      "  0%|          | 0/420 [00:00<?, ?it/s]/home/junjayz/miniconda3/lib/python3.9/site-packages/pandas/core/indexing.py:1797: SettingWithCopyWarning: \n",
      "A value is trying to be set on a copy of a slice from a DataFrame.\n",
      "Try using .loc[row_indexer,col_indexer] = value instead\n",
      "\n",
      "See the caveats in the documentation: https://pandas.pydata.org/pandas-docs/stable/user_guide/indexing.html#returning-a-view-versus-a-copy\n",
      "  self._setitem_single_column(loc, v, pi)\n",
      "100%|██████████| 420/420 [05:35<00:00,  1.25it/s]\n"
     ]
    }
   ],
   "source": [
    "lack_link_df = lack_link_df.drop(drop_idxs)\n",
    "drop_idxs = []\n",
    "for idx, paper in tqdm(lack_link_df.iterrows(), total = lack_link_df.shape[0]):\n",
    "    title_formatted = paper['title'].replace(' ', '+')\n",
    "    response = requests.get(f'http://export.arxiv.org/api/query?search_query=ti:{title_formatted}&start=0&max_results=1')\n",
    "    data = xmltodict.parse(response.text)['feed']\n",
    "    if 'entry' in data:\n",
    "        paper['pdf_link'] = data['entry']['link'][1]['@href']\n",
    "    else:\n",
    "        drop_idxs.append(idx)\n",
    "    new_new_df.loc[idx] = paper\n",
    "        "
   ]
  },
  {
   "cell_type": "code",
   "execution_count": 224,
   "metadata": {},
   "outputs": [
    {
     "data": {
      "text/plain": [
       "1475"
      ]
     },
     "execution_count": 224,
     "metadata": {},
     "output_type": "execute_result"
    }
   ],
   "source": [
    "sum(new_new_df.duplicated('abstract'))"
   ]
  },
  {
   "cell_type": "code",
   "execution_count": 222,
   "metadata": {},
   "outputs": [
    {
     "data": {
      "text/plain": [
       "420"
      ]
     },
     "execution_count": 222,
     "metadata": {},
     "output_type": "execute_result"
    }
   ],
   "source": [
    "sum(new_new_df.duplicated(['area','pdf_link']))"
   ]
  },
  {
   "cell_type": "code",
   "execution_count": 223,
   "metadata": {},
   "outputs": [],
   "source": [
    "new_new_df = new_new_df.drop_duplicates(['area','pdf_link'])"
   ]
  },
  {
   "cell_type": "code",
   "execution_count": 225,
   "metadata": {},
   "outputs": [],
   "source": [
    "import time"
   ]
  },
  {
   "cell_type": "code",
   "execution_count": 226,
   "metadata": {},
   "outputs": [],
   "source": [
    "lack_abstract_df = new_new_df.loc[new_new_df.duplicated(['area', 'abstract'])]\n",
    "drop_idxs = []"
   ]
  },
  {
   "cell_type": "code",
   "execution_count": 227,
   "metadata": {},
   "outputs": [
    {
     "data": {
      "text/plain": [
       "1035"
      ]
     },
     "execution_count": 227,
     "metadata": {},
     "output_type": "execute_result"
    }
   ],
   "source": [
    "len(lack_abstract_df)"
   ]
  },
  {
   "cell_type": "code",
   "execution_count": 228,
   "metadata": {},
   "outputs": [
    {
     "name": "stderr",
     "output_type": "stream",
     "text": [
      "/home/junjayz/miniconda3/lib/python3.9/site-packages/pandas/core/frame.py:4906: SettingWithCopyWarning: \n",
      "A value is trying to be set on a copy of a slice from a DataFrame\n",
      "\n",
      "See the caveats in the documentation: https://pandas.pydata.org/pandas-docs/stable/user_guide/indexing.html#returning-a-view-versus-a-copy\n",
      "  return super().drop(\n",
      " 18%|█▊        | 185/1035 [01:51<08:12,  1.73it/s]"
     ]
    },
    {
     "name": "stdout",
     "output_type": "stream",
     "text": [
      "Forbidden\n"
     ]
    },
    {
     "name": "stderr",
     "output_type": "stream",
     "text": [
      " 18%|█▊        | 185/1035 [03:23<15:33,  1.10s/it]\n"
     ]
    },
    {
     "ename": "KeyboardInterrupt",
     "evalue": "",
     "output_type": "error",
     "traceback": [
      "\u001b[0;31m---------------------------------------------------------------------------\u001b[0m",
      "\u001b[0;31mKeyboardInterrupt\u001b[0m                         Traceback (most recent call last)",
      "\u001b[0;32m/tmp/ipykernel_15061/1692181244.py\u001b[0m in \u001b[0;36m<module>\u001b[0;34m\u001b[0m\n\u001b[1;32m      7\u001b[0m         \u001b[0mlack_abstract_df\u001b[0m \u001b[0;34m=\u001b[0m \u001b[0mnew_new_df\u001b[0m\u001b[0;34m.\u001b[0m\u001b[0mloc\u001b[0m\u001b[0;34m[\u001b[0m\u001b[0mnew_new_df\u001b[0m\u001b[0;34m.\u001b[0m\u001b[0mduplicated\u001b[0m\u001b[0;34m(\u001b[0m\u001b[0;34m'abstract'\u001b[0m\u001b[0;34m)\u001b[0m\u001b[0;34m]\u001b[0m\u001b[0;34m\u001b[0m\u001b[0;34m\u001b[0m\u001b[0m\n\u001b[1;32m      8\u001b[0m         \u001b[0mprint\u001b[0m\u001b[0;34m(\u001b[0m\u001b[0mdata\u001b[0m\u001b[0;34m.\u001b[0m\u001b[0mget\u001b[0m\u001b[0;34m(\u001b[0m\u001b[0;34m'message'\u001b[0m\u001b[0;34m)\u001b[0m\u001b[0;34m)\u001b[0m\u001b[0;34m\u001b[0m\u001b[0;34m\u001b[0m\u001b[0m\n\u001b[0;32m----> 9\u001b[0;31m         \u001b[0mtime\u001b[0m\u001b[0;34m.\u001b[0m\u001b[0msleep\u001b[0m\u001b[0;34m(\u001b[0m\u001b[0;36m120\u001b[0m\u001b[0;34m)\u001b[0m\u001b[0;34m\u001b[0m\u001b[0;34m\u001b[0m\u001b[0m\n\u001b[0m\u001b[1;32m     10\u001b[0m     \u001b[0;32melse\u001b[0m\u001b[0;34m:\u001b[0m\u001b[0;34m\u001b[0m\u001b[0;34m\u001b[0m\u001b[0m\n\u001b[1;32m     11\u001b[0m         \u001b[0mdata\u001b[0m \u001b[0;34m=\u001b[0m \u001b[0mdata\u001b[0m\u001b[0;34m.\u001b[0m\u001b[0mget\u001b[0m\u001b[0;34m(\u001b[0m\u001b[0;34m'data'\u001b[0m\u001b[0;34m)\u001b[0m\u001b[0;34m\u001b[0m\u001b[0;34m\u001b[0m\u001b[0m\n",
      "\u001b[0;31mKeyboardInterrupt\u001b[0m: "
     ]
    }
   ],
   "source": [
    "lack_abstract_df.drop(drop_idxs, inplace=True)\n",
    "drop_idxs = []\n",
    "for idx, paper in tqdm(lack_abstract_df.iterrows(), total=lack_abstract_df.shape[0]):\n",
    "    title_formatted = paper['title'].replace(' ', '+')\n",
    "    data = requests.get(f'https://api.semanticscholar.org/graph/v1/paper/search?query={title_formatted}&limit=1&fields=abstract,referenceCount,citationCount,influentialCitationCount').json()\n",
    "    if data.get('message') is not None:\n",
    "        lack_abstract_df = new_new_df.loc[new_new_df.duplicated('abstract')]\n",
    "        print(data.get('message'))\n",
    "        time.sleep(120)\n",
    "    else:\n",
    "        data = data.get('data')\n",
    "        if data:\n",
    "            data = data[0]\n",
    "            paper['abstract'] = data.get('abstract')\n",
    "            paper['citationCount'] = data.get('citationCount')\n",
    "            paper['referenceCount'] = data.get('referenceCount')\n",
    "            paper['influentialCitationCount'] = data.get('influentialCitationCount')\n",
    "        else:\n",
    "            drop_idxs.append(idx)\n",
    "    new_new_df.loc[idx] = paper\n",
    "        "
   ]
  },
  {
   "cell_type": "code",
   "execution_count": 176,
   "metadata": {},
   "outputs": [
    {
     "name": "stderr",
     "output_type": "stream",
     "text": [
      "/home/junjayz/miniconda3/lib/python3.9/site-packages/pandas/core/generic.py:6392: SettingWithCopyWarning: \n",
      "A value is trying to be set on a copy of a slice from a DataFrame\n",
      "\n",
      "See the caveats in the documentation: https://pandas.pydata.org/pandas-docs/stable/user_guide/indexing.html#returning-a-view-versus-a-copy\n",
      "  return self._update_inplace(result)\n"
     ]
    }
   ],
   "source": [
    "new_new_df['abstract'].fillna('', inplace=True)"
   ]
  },
  {
   "cell_type": "code",
   "execution_count": 237,
   "metadata": {},
   "outputs": [
    {
     "name": "stderr",
     "output_type": "stream",
     "text": [
      "/home/junjayz/miniconda3/lib/python3.9/site-packages/pandas/core/generic.py:6392: SettingWithCopyWarning: \n",
      "A value is trying to be set on a copy of a slice from a DataFrame\n",
      "\n",
      "See the caveats in the documentation: https://pandas.pydata.org/pandas-docs/stable/user_guide/indexing.html#returning-a-view-versus-a-copy\n",
      "  return self._update_inplace(result)\n"
     ]
    }
   ],
   "source": [
    "new_new_df['pdf_link'].fillna('', inplace=True)"
   ]
  },
  {
   "cell_type": "code",
   "execution_count": 238,
   "metadata": {},
   "outputs": [
    {
     "data": {
      "text/plain": [
       "0"
      ]
     },
     "execution_count": 238,
     "metadata": {},
     "output_type": "execute_result"
    }
   ],
   "source": [
    "sum(new_new_df['pdf_link'] == '')"
   ]
  },
  {
   "cell_type": "code",
   "execution_count": 239,
   "metadata": {},
   "outputs": [
    {
     "data": {
      "text/plain": [
       "0"
      ]
     },
     "execution_count": 239,
     "metadata": {},
     "output_type": "execute_result"
    }
   ],
   "source": [
    "sum(new_new_df['abstract'] == '')"
   ]
  },
  {
   "cell_type": "code",
   "execution_count": 193,
   "metadata": {},
   "outputs": [],
   "source": [
    "new_new_df = new_new_df.sort_values(by=['area', 'agg_rate', 'agg_rank'], ascending=[True, False, True]).reset_index(drop=True)\n",
    "new_new_df['rank'] = new_new_df.groupby('area').cumcount()+1"
   ]
  },
  {
   "cell_type": "code",
   "execution_count": 240,
   "metadata": {},
   "outputs": [
    {
     "data": {
      "text/plain": [
       "7818"
      ]
     },
     "execution_count": 240,
     "metadata": {},
     "output_type": "execute_result"
    }
   ],
   "source": [
    "len(new_new_df['file_name'].unique())"
   ]
  },
  {
   "cell_type": "code",
   "execution_count": 243,
   "metadata": {},
   "outputs": [
    {
     "data": {
      "text/plain": [
       "7865"
      ]
     },
     "execution_count": 243,
     "metadata": {},
     "output_type": "execute_result"
    }
   ],
   "source": [
    "len(new_new_df['title'].unique())"
   ]
  },
  {
   "cell_type": "code",
   "execution_count": 246,
   "metadata": {},
   "outputs": [
    {
     "name": "stderr",
     "output_type": "stream",
     "text": [
      "  0%|          | 0/8255 [00:00<?, ?it/s]/home/junjayz/miniconda3/lib/python3.9/site-packages/pandas/core/indexing.py:1797: SettingWithCopyWarning: \n",
      "A value is trying to be set on a copy of a slice from a DataFrame.\n",
      "Try using .loc[row_indexer,col_indexer] = value instead\n",
      "\n",
      "See the caveats in the documentation: https://pandas.pydata.org/pandas-docs/stable/user_guide/indexing.html#returning-a-view-versus-a-copy\n",
      "  self._setitem_single_column(loc, v, pi)\n",
      "100%|██████████| 8255/8255 [00:19<00:00, 433.92it/s]\n"
     ]
    }
   ],
   "source": [
    "for idx, row in tqdm(new_new_df.iterrows(), total=len(new_new_df)):\n",
    "    title = row['title']\n",
    "    area = row['area']\n",
    "    letters = [word[0:2] for word in title.split(' ')]\n",
    "    row['file_name'] = area[0]+''.join(letters)\n",
    "    new_new_df.loc[idx] = row"
   ]
  },
  {
   "cell_type": "code",
   "execution_count": 247,
   "metadata": {},
   "outputs": [
    {
     "data": {
      "text/plain": [
       "7865"
      ]
     },
     "execution_count": 247,
     "metadata": {},
     "output_type": "execute_result"
    }
   ],
   "source": [
    "len(new_new_df['title'].unique())"
   ]
  },
  {
   "cell_type": "code",
   "execution_count": 248,
   "metadata": {},
   "outputs": [
    {
     "data": {
      "text/plain": [
       "8160"
      ]
     },
     "execution_count": 248,
     "metadata": {},
     "output_type": "execute_result"
    }
   ],
   "source": [
    "len(new_new_df['file_name'].unique())"
   ]
  },
  {
   "cell_type": "code",
   "execution_count": 249,
   "metadata": {},
   "outputs": [],
   "source": [
    "new_new_df.to_csv('./data/final_data.csv')"
   ]
  },
  {
   "cell_type": "code",
   "execution_count": 250,
   "metadata": {},
   "outputs": [],
   "source": [
    "test_df = new_new_df[new_new_df['rank']<=100]"
   ]
  },
  {
   "cell_type": "code",
   "execution_count": 251,
   "metadata": {},
   "outputs": [],
   "source": [
    "test_df.to_csv('./data/new_test_set.csv')"
   ]
  },
  {
   "cell_type": "code",
   "execution_count": 252,
   "metadata": {},
   "outputs": [
    {
     "data": {
      "text/plain": [
       "465"
      ]
     },
     "execution_count": 252,
     "metadata": {},
     "output_type": "execute_result"
    }
   ],
   "source": [
    "sum(new_new_df.duplicated('abstract'))"
   ]
  },
  {
   "cell_type": "code",
   "execution_count": 253,
   "metadata": {},
   "outputs": [
    {
     "data": {
      "text/plain": [
       "464"
      ]
     },
     "execution_count": 253,
     "metadata": {},
     "output_type": "execute_result"
    }
   ],
   "source": [
    "sum(new_new_df.duplicated('pdf_link'))"
   ]
  },
  {
   "cell_type": "code",
   "execution_count": 254,
   "metadata": {},
   "outputs": [
    {
     "data": {
      "text/html": [
       "<div>\n",
       "<style scoped>\n",
       "    .dataframe tbody tr th:only-of-type {\n",
       "        vertical-align: middle;\n",
       "    }\n",
       "\n",
       "    .dataframe tbody tr th {\n",
       "        vertical-align: top;\n",
       "    }\n",
       "\n",
       "    .dataframe thead th {\n",
       "        text-align: right;\n",
       "    }\n",
       "</style>\n",
       "<table border=\"1\" class=\"dataframe\">\n",
       "  <thead>\n",
       "    <tr style=\"text-align: right;\">\n",
       "      <th></th>\n",
       "      <th>rank_gs</th>\n",
       "      <th>title</th>\n",
       "      <th>rate_gs</th>\n",
       "      <th>rank_pc</th>\n",
       "      <th>rate_pc</th>\n",
       "      <th>rank_ss</th>\n",
       "      <th>rate_ss</th>\n",
       "      <th>agg_rate</th>\n",
       "      <th>agg_rank</th>\n",
       "      <th>rank</th>\n",
       "      <th>pdf_link</th>\n",
       "      <th>abstract</th>\n",
       "      <th>file_name</th>\n",
       "      <th>citationCount</th>\n",
       "      <th>referenceCount</th>\n",
       "      <th>influentialCitationCount</th>\n",
       "    </tr>\n",
       "    <tr>\n",
       "      <th>area</th>\n",
       "      <th></th>\n",
       "      <th></th>\n",
       "      <th></th>\n",
       "      <th></th>\n",
       "      <th></th>\n",
       "      <th></th>\n",
       "      <th></th>\n",
       "      <th></th>\n",
       "      <th></th>\n",
       "      <th></th>\n",
       "      <th></th>\n",
       "      <th></th>\n",
       "      <th></th>\n",
       "      <th></th>\n",
       "      <th></th>\n",
       "      <th></th>\n",
       "    </tr>\n",
       "  </thead>\n",
       "  <tbody>\n",
       "    <tr>\n",
       "      <th>3D Reconstruction</th>\n",
       "      <td>405</td>\n",
       "      <td>405</td>\n",
       "      <td>405</td>\n",
       "      <td>405</td>\n",
       "      <td>405</td>\n",
       "      <td>405</td>\n",
       "      <td>405</td>\n",
       "      <td>405</td>\n",
       "      <td>405</td>\n",
       "      <td>405</td>\n",
       "      <td>405</td>\n",
       "      <td>405</td>\n",
       "      <td>405</td>\n",
       "      <td>405</td>\n",
       "      <td>405</td>\n",
       "      <td>405</td>\n",
       "    </tr>\n",
       "    <tr>\n",
       "      <th>Action Recognition</th>\n",
       "      <td>399</td>\n",
       "      <td>399</td>\n",
       "      <td>399</td>\n",
       "      <td>399</td>\n",
       "      <td>399</td>\n",
       "      <td>399</td>\n",
       "      <td>399</td>\n",
       "      <td>399</td>\n",
       "      <td>399</td>\n",
       "      <td>399</td>\n",
       "      <td>399</td>\n",
       "      <td>399</td>\n",
       "      <td>399</td>\n",
       "      <td>399</td>\n",
       "      <td>399</td>\n",
       "      <td>399</td>\n",
       "    </tr>\n",
       "    <tr>\n",
       "      <th>Autonomous vehicles</th>\n",
       "      <td>417</td>\n",
       "      <td>417</td>\n",
       "      <td>417</td>\n",
       "      <td>417</td>\n",
       "      <td>417</td>\n",
       "      <td>417</td>\n",
       "      <td>417</td>\n",
       "      <td>417</td>\n",
       "      <td>417</td>\n",
       "      <td>417</td>\n",
       "      <td>417</td>\n",
       "      <td>416</td>\n",
       "      <td>417</td>\n",
       "      <td>417</td>\n",
       "      <td>417</td>\n",
       "      <td>417</td>\n",
       "    </tr>\n",
       "    <tr>\n",
       "      <th>Denoising</th>\n",
       "      <td>423</td>\n",
       "      <td>423</td>\n",
       "      <td>423</td>\n",
       "      <td>423</td>\n",
       "      <td>423</td>\n",
       "      <td>423</td>\n",
       "      <td>423</td>\n",
       "      <td>423</td>\n",
       "      <td>423</td>\n",
       "      <td>423</td>\n",
       "      <td>423</td>\n",
       "      <td>423</td>\n",
       "      <td>423</td>\n",
       "      <td>422</td>\n",
       "      <td>422</td>\n",
       "      <td>422</td>\n",
       "    </tr>\n",
       "    <tr>\n",
       "      <th>Depth Estimation</th>\n",
       "      <td>347</td>\n",
       "      <td>347</td>\n",
       "      <td>347</td>\n",
       "      <td>347</td>\n",
       "      <td>347</td>\n",
       "      <td>347</td>\n",
       "      <td>347</td>\n",
       "      <td>347</td>\n",
       "      <td>347</td>\n",
       "      <td>347</td>\n",
       "      <td>347</td>\n",
       "      <td>347</td>\n",
       "      <td>347</td>\n",
       "      <td>347</td>\n",
       "      <td>347</td>\n",
       "      <td>347</td>\n",
       "    </tr>\n",
       "    <tr>\n",
       "      <th>Domain adaptation</th>\n",
       "      <td>376</td>\n",
       "      <td>376</td>\n",
       "      <td>376</td>\n",
       "      <td>376</td>\n",
       "      <td>376</td>\n",
       "      <td>376</td>\n",
       "      <td>376</td>\n",
       "      <td>376</td>\n",
       "      <td>376</td>\n",
       "      <td>376</td>\n",
       "      <td>376</td>\n",
       "      <td>376</td>\n",
       "      <td>376</td>\n",
       "      <td>376</td>\n",
       "      <td>376</td>\n",
       "      <td>376</td>\n",
       "    </tr>\n",
       "    <tr>\n",
       "      <th>Face Recognition</th>\n",
       "      <td>410</td>\n",
       "      <td>410</td>\n",
       "      <td>410</td>\n",
       "      <td>410</td>\n",
       "      <td>410</td>\n",
       "      <td>410</td>\n",
       "      <td>410</td>\n",
       "      <td>410</td>\n",
       "      <td>410</td>\n",
       "      <td>410</td>\n",
       "      <td>410</td>\n",
       "      <td>410</td>\n",
       "      <td>410</td>\n",
       "      <td>409</td>\n",
       "      <td>409</td>\n",
       "      <td>409</td>\n",
       "    </tr>\n",
       "    <tr>\n",
       "      <th>Image Captioning</th>\n",
       "      <td>330</td>\n",
       "      <td>330</td>\n",
       "      <td>330</td>\n",
       "      <td>330</td>\n",
       "      <td>330</td>\n",
       "      <td>330</td>\n",
       "      <td>330</td>\n",
       "      <td>330</td>\n",
       "      <td>330</td>\n",
       "      <td>330</td>\n",
       "      <td>330</td>\n",
       "      <td>330</td>\n",
       "      <td>330</td>\n",
       "      <td>330</td>\n",
       "      <td>330</td>\n",
       "      <td>330</td>\n",
       "    </tr>\n",
       "    <tr>\n",
       "      <th>Image Compression</th>\n",
       "      <td>343</td>\n",
       "      <td>343</td>\n",
       "      <td>343</td>\n",
       "      <td>343</td>\n",
       "      <td>343</td>\n",
       "      <td>343</td>\n",
       "      <td>343</td>\n",
       "      <td>343</td>\n",
       "      <td>343</td>\n",
       "      <td>343</td>\n",
       "      <td>343</td>\n",
       "      <td>343</td>\n",
       "      <td>343</td>\n",
       "      <td>343</td>\n",
       "      <td>343</td>\n",
       "      <td>343</td>\n",
       "    </tr>\n",
       "    <tr>\n",
       "      <th>Image Retrieval</th>\n",
       "      <td>404</td>\n",
       "      <td>404</td>\n",
       "      <td>404</td>\n",
       "      <td>404</td>\n",
       "      <td>404</td>\n",
       "      <td>404</td>\n",
       "      <td>404</td>\n",
       "      <td>404</td>\n",
       "      <td>404</td>\n",
       "      <td>404</td>\n",
       "      <td>404</td>\n",
       "      <td>404</td>\n",
       "      <td>404</td>\n",
       "      <td>403</td>\n",
       "      <td>403</td>\n",
       "      <td>403</td>\n",
       "    </tr>\n",
       "    <tr>\n",
       "      <th>Image augmentation</th>\n",
       "      <td>304</td>\n",
       "      <td>304</td>\n",
       "      <td>304</td>\n",
       "      <td>304</td>\n",
       "      <td>304</td>\n",
       "      <td>304</td>\n",
       "      <td>304</td>\n",
       "      <td>304</td>\n",
       "      <td>304</td>\n",
       "      <td>304</td>\n",
       "      <td>304</td>\n",
       "      <td>304</td>\n",
       "      <td>304</td>\n",
       "      <td>302</td>\n",
       "      <td>302</td>\n",
       "      <td>302</td>\n",
       "    </tr>\n",
       "    <tr>\n",
       "      <th>Image classification</th>\n",
       "      <td>422</td>\n",
       "      <td>422</td>\n",
       "      <td>422</td>\n",
       "      <td>422</td>\n",
       "      <td>422</td>\n",
       "      <td>422</td>\n",
       "      <td>422</td>\n",
       "      <td>422</td>\n",
       "      <td>422</td>\n",
       "      <td>422</td>\n",
       "      <td>422</td>\n",
       "      <td>422</td>\n",
       "      <td>422</td>\n",
       "      <td>421</td>\n",
       "      <td>421</td>\n",
       "      <td>421</td>\n",
       "    </tr>\n",
       "    <tr>\n",
       "      <th>Image generation</th>\n",
       "      <td>435</td>\n",
       "      <td>435</td>\n",
       "      <td>435</td>\n",
       "      <td>435</td>\n",
       "      <td>435</td>\n",
       "      <td>435</td>\n",
       "      <td>435</td>\n",
       "      <td>435</td>\n",
       "      <td>435</td>\n",
       "      <td>435</td>\n",
       "      <td>435</td>\n",
       "      <td>435</td>\n",
       "      <td>435</td>\n",
       "      <td>432</td>\n",
       "      <td>432</td>\n",
       "      <td>432</td>\n",
       "    </tr>\n",
       "    <tr>\n",
       "      <th>Object Recognition</th>\n",
       "      <td>466</td>\n",
       "      <td>466</td>\n",
       "      <td>466</td>\n",
       "      <td>466</td>\n",
       "      <td>466</td>\n",
       "      <td>466</td>\n",
       "      <td>466</td>\n",
       "      <td>466</td>\n",
       "      <td>466</td>\n",
       "      <td>466</td>\n",
       "      <td>466</td>\n",
       "      <td>466</td>\n",
       "      <td>466</td>\n",
       "      <td>466</td>\n",
       "      <td>466</td>\n",
       "      <td>466</td>\n",
       "    </tr>\n",
       "    <tr>\n",
       "      <th>Object Tracking</th>\n",
       "      <td>365</td>\n",
       "      <td>365</td>\n",
       "      <td>365</td>\n",
       "      <td>365</td>\n",
       "      <td>365</td>\n",
       "      <td>365</td>\n",
       "      <td>365</td>\n",
       "      <td>365</td>\n",
       "      <td>365</td>\n",
       "      <td>365</td>\n",
       "      <td>365</td>\n",
       "      <td>365</td>\n",
       "      <td>365</td>\n",
       "      <td>365</td>\n",
       "      <td>365</td>\n",
       "      <td>365</td>\n",
       "    </tr>\n",
       "    <tr>\n",
       "      <th>Object detection</th>\n",
       "      <td>361</td>\n",
       "      <td>361</td>\n",
       "      <td>361</td>\n",
       "      <td>361</td>\n",
       "      <td>361</td>\n",
       "      <td>361</td>\n",
       "      <td>361</td>\n",
       "      <td>361</td>\n",
       "      <td>361</td>\n",
       "      <td>361</td>\n",
       "      <td>361</td>\n",
       "      <td>361</td>\n",
       "      <td>361</td>\n",
       "      <td>360</td>\n",
       "      <td>360</td>\n",
       "      <td>360</td>\n",
       "    </tr>\n",
       "    <tr>\n",
       "      <th>Optical Character Recognition</th>\n",
       "      <td>288</td>\n",
       "      <td>288</td>\n",
       "      <td>288</td>\n",
       "      <td>288</td>\n",
       "      <td>288</td>\n",
       "      <td>288</td>\n",
       "      <td>288</td>\n",
       "      <td>288</td>\n",
       "      <td>288</td>\n",
       "      <td>288</td>\n",
       "      <td>288</td>\n",
       "      <td>288</td>\n",
       "      <td>288</td>\n",
       "      <td>288</td>\n",
       "      <td>288</td>\n",
       "      <td>288</td>\n",
       "    </tr>\n",
       "    <tr>\n",
       "      <th>Optical Flow Estimation</th>\n",
       "      <td>357</td>\n",
       "      <td>357</td>\n",
       "      <td>357</td>\n",
       "      <td>357</td>\n",
       "      <td>357</td>\n",
       "      <td>357</td>\n",
       "      <td>357</td>\n",
       "      <td>357</td>\n",
       "      <td>357</td>\n",
       "      <td>357</td>\n",
       "      <td>357</td>\n",
       "      <td>357</td>\n",
       "      <td>357</td>\n",
       "      <td>356</td>\n",
       "      <td>356</td>\n",
       "      <td>356</td>\n",
       "    </tr>\n",
       "    <tr>\n",
       "      <th>Pose estimation</th>\n",
       "      <td>355</td>\n",
       "      <td>355</td>\n",
       "      <td>355</td>\n",
       "      <td>355</td>\n",
       "      <td>355</td>\n",
       "      <td>355</td>\n",
       "      <td>355</td>\n",
       "      <td>355</td>\n",
       "      <td>355</td>\n",
       "      <td>355</td>\n",
       "      <td>355</td>\n",
       "      <td>355</td>\n",
       "      <td>355</td>\n",
       "      <td>355</td>\n",
       "      <td>355</td>\n",
       "      <td>355</td>\n",
       "    </tr>\n",
       "    <tr>\n",
       "      <th>Semantic segmentation</th>\n",
       "      <td>348</td>\n",
       "      <td>348</td>\n",
       "      <td>348</td>\n",
       "      <td>348</td>\n",
       "      <td>348</td>\n",
       "      <td>348</td>\n",
       "      <td>348</td>\n",
       "      <td>348</td>\n",
       "      <td>348</td>\n",
       "      <td>348</td>\n",
       "      <td>348</td>\n",
       "      <td>348</td>\n",
       "      <td>348</td>\n",
       "      <td>348</td>\n",
       "      <td>348</td>\n",
       "      <td>348</td>\n",
       "    </tr>\n",
       "    <tr>\n",
       "      <th>Style Transfer</th>\n",
       "      <td>344</td>\n",
       "      <td>344</td>\n",
       "      <td>344</td>\n",
       "      <td>344</td>\n",
       "      <td>344</td>\n",
       "      <td>344</td>\n",
       "      <td>344</td>\n",
       "      <td>344</td>\n",
       "      <td>344</td>\n",
       "      <td>344</td>\n",
       "      <td>344</td>\n",
       "      <td>344</td>\n",
       "      <td>344</td>\n",
       "      <td>344</td>\n",
       "      <td>344</td>\n",
       "      <td>344</td>\n",
       "    </tr>\n",
       "    <tr>\n",
       "      <th>Super-Resolution</th>\n",
       "      <td>356</td>\n",
       "      <td>356</td>\n",
       "      <td>356</td>\n",
       "      <td>356</td>\n",
       "      <td>356</td>\n",
       "      <td>356</td>\n",
       "      <td>356</td>\n",
       "      <td>356</td>\n",
       "      <td>356</td>\n",
       "      <td>356</td>\n",
       "      <td>356</td>\n",
       "      <td>356</td>\n",
       "      <td>356</td>\n",
       "      <td>355</td>\n",
       "      <td>355</td>\n",
       "      <td>355</td>\n",
       "    </tr>\n",
       "  </tbody>\n",
       "</table>\n",
       "</div>"
      ],
      "text/plain": [
       "                               rank_gs  title  rate_gs  rank_pc  rate_pc  \\\n",
       "area                                                                       \n",
       "3D Reconstruction                  405    405      405      405      405   \n",
       "Action Recognition                 399    399      399      399      399   \n",
       "Autonomous vehicles                417    417      417      417      417   \n",
       "Denoising                          423    423      423      423      423   \n",
       "Depth Estimation                   347    347      347      347      347   \n",
       "Domain adaptation                  376    376      376      376      376   \n",
       "Face Recognition                   410    410      410      410      410   \n",
       "Image Captioning                   330    330      330      330      330   \n",
       "Image Compression                  343    343      343      343      343   \n",
       "Image Retrieval                    404    404      404      404      404   \n",
       "Image augmentation                 304    304      304      304      304   \n",
       "Image classification               422    422      422      422      422   \n",
       "Image generation                   435    435      435      435      435   \n",
       "Object Recognition                 466    466      466      466      466   \n",
       "Object Tracking                    365    365      365      365      365   \n",
       "Object detection                   361    361      361      361      361   \n",
       "Optical Character Recognition      288    288      288      288      288   \n",
       "Optical Flow Estimation            357    357      357      357      357   \n",
       "Pose estimation                    355    355      355      355      355   \n",
       "Semantic segmentation              348    348      348      348      348   \n",
       "Style Transfer                     344    344      344      344      344   \n",
       "Super-Resolution                   356    356      356      356      356   \n",
       "\n",
       "                               rank_ss  rate_ss  agg_rate  agg_rank  rank  \\\n",
       "area                                                                        \n",
       "3D Reconstruction                  405      405       405       405   405   \n",
       "Action Recognition                 399      399       399       399   399   \n",
       "Autonomous vehicles                417      417       417       417   417   \n",
       "Denoising                          423      423       423       423   423   \n",
       "Depth Estimation                   347      347       347       347   347   \n",
       "Domain adaptation                  376      376       376       376   376   \n",
       "Face Recognition                   410      410       410       410   410   \n",
       "Image Captioning                   330      330       330       330   330   \n",
       "Image Compression                  343      343       343       343   343   \n",
       "Image Retrieval                    404      404       404       404   404   \n",
       "Image augmentation                 304      304       304       304   304   \n",
       "Image classification               422      422       422       422   422   \n",
       "Image generation                   435      435       435       435   435   \n",
       "Object Recognition                 466      466       466       466   466   \n",
       "Object Tracking                    365      365       365       365   365   \n",
       "Object detection                   361      361       361       361   361   \n",
       "Optical Character Recognition      288      288       288       288   288   \n",
       "Optical Flow Estimation            357      357       357       357   357   \n",
       "Pose estimation                    355      355       355       355   355   \n",
       "Semantic segmentation              348      348       348       348   348   \n",
       "Style Transfer                     344      344       344       344   344   \n",
       "Super-Resolution                   356      356       356       356   356   \n",
       "\n",
       "                               pdf_link  abstract  file_name  citationCount  \\\n",
       "area                                                                          \n",
       "3D Reconstruction                   405       405        405            405   \n",
       "Action Recognition                  399       399        399            399   \n",
       "Autonomous vehicles                 417       416        417            417   \n",
       "Denoising                           423       423        423            422   \n",
       "Depth Estimation                    347       347        347            347   \n",
       "Domain adaptation                   376       376        376            376   \n",
       "Face Recognition                    410       410        410            409   \n",
       "Image Captioning                    330       330        330            330   \n",
       "Image Compression                   343       343        343            343   \n",
       "Image Retrieval                     404       404        404            403   \n",
       "Image augmentation                  304       304        304            302   \n",
       "Image classification                422       422        422            421   \n",
       "Image generation                    435       435        435            432   \n",
       "Object Recognition                  466       466        466            466   \n",
       "Object Tracking                     365       365        365            365   \n",
       "Object detection                    361       361        361            360   \n",
       "Optical Character Recognition       288       288        288            288   \n",
       "Optical Flow Estimation             357       357        357            356   \n",
       "Pose estimation                     355       355        355            355   \n",
       "Semantic segmentation               348       348        348            348   \n",
       "Style Transfer                      344       344        344            344   \n",
       "Super-Resolution                    356       356        356            355   \n",
       "\n",
       "                               referenceCount  influentialCitationCount  \n",
       "area                                                                     \n",
       "3D Reconstruction                         405                       405  \n",
       "Action Recognition                        399                       399  \n",
       "Autonomous vehicles                       417                       417  \n",
       "Denoising                                 422                       422  \n",
       "Depth Estimation                          347                       347  \n",
       "Domain adaptation                         376                       376  \n",
       "Face Recognition                          409                       409  \n",
       "Image Captioning                          330                       330  \n",
       "Image Compression                         343                       343  \n",
       "Image Retrieval                           403                       403  \n",
       "Image augmentation                        302                       302  \n",
       "Image classification                      421                       421  \n",
       "Image generation                          432                       432  \n",
       "Object Recognition                        466                       466  \n",
       "Object Tracking                           365                       365  \n",
       "Object detection                          360                       360  \n",
       "Optical Character Recognition             288                       288  \n",
       "Optical Flow Estimation                   356                       356  \n",
       "Pose estimation                           355                       355  \n",
       "Semantic segmentation                     348                       348  \n",
       "Style Transfer                            344                       344  \n",
       "Super-Resolution                          355                       355  "
      ]
     },
     "execution_count": 254,
     "metadata": {},
     "output_type": "execute_result"
    }
   ],
   "source": [
    "new_new_df.groupby('area').count()"
   ]
  }
 ],
 "metadata": {
  "interpreter": {
   "hash": "8a7ad60629c7992fdadfcbec1ee9d18d5ed6e222b8ad46df459875a57fae42b2"
  },
  "kernelspec": {
   "display_name": "Python 3.9.5 64-bit ('base': conda)",
   "language": "python",
   "name": "python3"
  },
  "language_info": {
   "codemirror_mode": {
    "name": "ipython",
    "version": 3
   },
   "file_extension": ".py",
   "mimetype": "text/x-python",
   "name": "python",
   "nbconvert_exporter": "python",
   "pygments_lexer": "ipython3",
   "version": "3.9.5"
  },
  "orig_nbformat": 4
 },
 "nbformat": 4,
 "nbformat_minor": 2
}
