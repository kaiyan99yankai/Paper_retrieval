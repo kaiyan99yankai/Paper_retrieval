{
 "cells": [
  {
   "cell_type": "code",
   "execution_count": 11,
   "id": "comparable-sheriff",
   "metadata": {},
   "outputs": [],
   "source": [
    "import pandas as pd"
   ]
  },
  {
   "cell_type": "code",
   "execution_count": 12,
   "id": "obvious-intermediate",
   "metadata": {},
   "outputs": [],
   "source": [
    "df = pd.read_csv('final_data.csv')"
   ]
  },
  {
   "cell_type": "code",
   "execution_count": 13,
   "id": "respective-retailer",
   "metadata": {},
   "outputs": [
    {
     "data": {
      "text/plain": [
       "Index(['Unnamed: 0', 'area', 'rank_gs', 'title', 'rate_gs', 'rank_pc',\n",
       "       'rate_pc', 'rank_ss', 'rate_ss', 'agg_rate', 'agg_rank', 'rank',\n",
       "       'pdf_link', 'abstract', 'file_name', 'citationCount', 'referenceCount',\n",
       "       'influentialCitationCount'],\n",
       "      dtype='object')"
      ]
     },
     "execution_count": 13,
     "metadata": {},
     "output_type": "execute_result"
    }
   ],
   "source": [
    "df.columns"
   ]
  },
  {
   "cell_type": "code",
   "execution_count": 14,
   "id": "lyric-seven",
   "metadata": {},
   "outputs": [],
   "source": [
    "df.drop(['area', 'rank_gs', 'title',  'rate_gs', 'rank_pc',\n",
    "       'rate_pc', 'rank_ss', 'rate_ss', 'agg_rate', 'agg_rank', 'rank',\n",
    "       'pdf_link','file_name', 'citationCount', 'referenceCount',\n",
    "       'influentialCitationCount'], axis = 1, inplace = True)"
   ]
  },
  {
   "cell_type": "code",
   "execution_count": 18,
   "id": "naked-gibson",
   "metadata": {},
   "outputs": [],
   "source": [
    "df.columns = ['id', 'contents']"
   ]
  },
  {
   "cell_type": "code",
   "execution_count": 19,
   "id": "comic-politics",
   "metadata": {},
   "outputs": [
    {
     "data": {
      "text/html": [
       "<div>\n",
       "<style scoped>\n",
       "    .dataframe tbody tr th:only-of-type {\n",
       "        vertical-align: middle;\n",
       "    }\n",
       "\n",
       "    .dataframe tbody tr th {\n",
       "        vertical-align: top;\n",
       "    }\n",
       "\n",
       "    .dataframe thead th {\n",
       "        text-align: right;\n",
       "    }\n",
       "</style>\n",
       "<table border=\"1\" class=\"dataframe\">\n",
       "  <thead>\n",
       "    <tr style=\"text-align: right;\">\n",
       "      <th></th>\n",
       "      <th>id</th>\n",
       "      <th>contents</th>\n",
       "    </tr>\n",
       "  </thead>\n",
       "  <tbody>\n",
       "    <tr>\n",
       "      <th>0</th>\n",
       "      <td>0</td>\n",
       "      <td>With the advent of deep neural networks, learn...</td>\n",
       "    </tr>\n",
       "    <tr>\n",
       "      <th>1</th>\n",
       "      <td>1</td>\n",
       "      <td>Supervised 3D reconstruction has witnessed a s...</td>\n",
       "    </tr>\n",
       "    <tr>\n",
       "      <th>2</th>\n",
       "      <td>2</td>\n",
       "      <td>Volumetric models have become a popular repres...</td>\n",
       "    </tr>\n",
       "    <tr>\n",
       "      <th>3</th>\n",
       "      <td>3</td>\n",
       "      <td>Recovering the 3D representation of an object ...</td>\n",
       "    </tr>\n",
       "    <tr>\n",
       "      <th>4</th>\n",
       "      <td>4</td>\n",
       "      <td>One challenge that remains open in 3D deep lea...</td>\n",
       "    </tr>\n",
       "    <tr>\n",
       "      <th>...</th>\n",
       "      <td>...</td>\n",
       "      <td>...</td>\n",
       "    </tr>\n",
       "    <tr>\n",
       "      <th>8250</th>\n",
       "      <td>9095</td>\n",
       "      <td>Abstract Limited by the existed imagery hardwa...</td>\n",
       "    </tr>\n",
       "    <tr>\n",
       "      <th>8251</th>\n",
       "      <td>9096</td>\n",
       "      <td>Counting molecules in complexes is challenging...</td>\n",
       "    </tr>\n",
       "    <tr>\n",
       "      <th>8252</th>\n",
       "      <td>9098</td>\n",
       "      <td>Single image super-resolution (SR) is an ill-p...</td>\n",
       "    </tr>\n",
       "    <tr>\n",
       "      <th>8253</th>\n",
       "      <td>9099</td>\n",
       "      <td>We study sparse spikes super-resolution over t...</td>\n",
       "    </tr>\n",
       "    <tr>\n",
       "      <th>8254</th>\n",
       "      <td>9100</td>\n",
       "      <td>In this paper, balanced two-stage residual net...</td>\n",
       "    </tr>\n",
       "  </tbody>\n",
       "</table>\n",
       "<p>8255 rows × 2 columns</p>\n",
       "</div>"
      ],
      "text/plain": [
       "        id                                           contents\n",
       "0        0  With the advent of deep neural networks, learn...\n",
       "1        1  Supervised 3D reconstruction has witnessed a s...\n",
       "2        2  Volumetric models have become a popular repres...\n",
       "3        3  Recovering the 3D representation of an object ...\n",
       "4        4  One challenge that remains open in 3D deep lea...\n",
       "...    ...                                                ...\n",
       "8250  9095  Abstract Limited by the existed imagery hardwa...\n",
       "8251  9096  Counting molecules in complexes is challenging...\n",
       "8252  9098  Single image super-resolution (SR) is an ill-p...\n",
       "8253  9099  We study sparse spikes super-resolution over t...\n",
       "8254  9100  In this paper, balanced two-stage residual net...\n",
       "\n",
       "[8255 rows x 2 columns]"
      ]
     },
     "execution_count": 19,
     "metadata": {},
     "output_type": "execute_result"
    }
   ],
   "source": [
    "df"
   ]
  },
  {
   "cell_type": "code",
   "execution_count": 21,
   "id": "loving-breast",
   "metadata": {},
   "outputs": [],
   "source": [
    "with open('documents/documents.json','w') as f:\n",
    "    f.write(df.to_json(orient='records', lines=True))"
   ]
  },
  {
   "cell_type": "code",
   "execution_count": 23,
   "id": "pending-polymer",
   "metadata": {},
   "outputs": [
    {
     "name": "stdout",
     "output_type": "stream",
     "text": [
      "WARNING: sun.reflect.Reflection.getCallerClass is not supported. This will impact performance.\n",
      "2021-11-05 17:39:01,543 INFO  [main] index.IndexCollection (IndexCollection.java:643) - Setting log level to INFO\n",
      "2021-11-05 17:39:01,543 INFO  [main] index.IndexCollection (IndexCollection.java:646) - Starting indexer...\n",
      "2021-11-05 17:39:01,543 INFO  [main] index.IndexCollection (IndexCollection.java:647) - ============ Loading Parameters ============\n",
      "2021-11-05 17:39:01,543 INFO  [main] index.IndexCollection (IndexCollection.java:648) - DocumentCollection path: documents/\n",
      "2021-11-05 17:39:01,543 INFO  [main] index.IndexCollection (IndexCollection.java:649) - CollectionClass: JsonCollection\n",
      "2021-11-05 17:39:01,543 INFO  [main] index.IndexCollection (IndexCollection.java:650) - Generator: DefaultLuceneDocumentGenerator\n",
      "2021-11-05 17:39:01,543 INFO  [main] index.IndexCollection (IndexCollection.java:651) - Threads: 1\n",
      "2021-11-05 17:39:01,543 INFO  [main] index.IndexCollection (IndexCollection.java:652) - Stemmer: porter\n",
      "2021-11-05 17:39:01,543 INFO  [main] index.IndexCollection (IndexCollection.java:653) - Keep stopwords? false\n",
      "2021-11-05 17:39:01,543 INFO  [main] index.IndexCollection (IndexCollection.java:654) - Stopwords:  null\n",
      "2021-11-05 17:39:01,543 INFO  [main] index.IndexCollection (IndexCollection.java:655) - Store positions? true\n",
      "2021-11-05 17:39:01,543 INFO  [main] index.IndexCollection (IndexCollection.java:656) - Store docvectors? true\n",
      "2021-11-05 17:39:01,543 INFO  [main] index.IndexCollection (IndexCollection.java:657) - Store document \"contents\" field? false\n",
      "2021-11-05 17:39:01,543 INFO  [main] index.IndexCollection (IndexCollection.java:658) - Store document \"raw\" field? true\n",
      "2021-11-05 17:39:01,543 INFO  [main] index.IndexCollection (IndexCollection.java:659) - Optimize (merge segments)? false\n",
      "2021-11-05 17:39:01,543 INFO  [main] index.IndexCollection (IndexCollection.java:660) - Whitelist: null\n",
      "2021-11-05 17:39:01,543 INFO  [main] index.IndexCollection (IndexCollection.java:661) - Pretokenized?: false\n",
      "2021-11-05 17:39:01,543 INFO  [main] index.IndexCollection (IndexCollection.java:681) - Directly building Lucene indexes...\n",
      "2021-11-05 17:39:01,543 INFO  [main] index.IndexCollection (IndexCollection.java:682) - Index path: indexes/\n",
      "2021-11-05 17:39:01,543 INFO  [main] index.IndexCollection (IndexCollection.java:731) - ============ Indexing Collection ============\n",
      "2021-11-05 17:39:01,712 INFO  [main] index.IndexCollection (IndexCollection.java:829) - Thread pool with 1 threads initialized.\n",
      "2021-11-05 17:39:01,712 INFO  [main] index.IndexCollection (IndexCollection.java:831) - Initializing collection in documents\n",
      "2021-11-05 17:39:01,712 INFO  [main] index.IndexCollection (IndexCollection.java:840) - 1 file found\n",
      "2021-11-05 17:39:01,712 INFO  [main] index.IndexCollection (IndexCollection.java:841) - Starting to index...\n",
      "2021-11-05 17:39:04,065 DEBUG [pool-2-thread-1] index.IndexCollection$LocalIndexerThread (IndexCollection.java:248) - documents\\documents.json: 8255 docs added.\n",
      "2021-11-05 17:39:04,504 INFO  [main] index.IndexCollection (IndexCollection.java:925) - Indexing Complete! 8,255 documents indexed\n",
      "2021-11-05 17:39:04,504 INFO  [main] index.IndexCollection (IndexCollection.java:926) - ============ Final Counter Values ============\n",
      "2021-11-05 17:39:04,504 INFO  [main] index.IndexCollection (IndexCollection.java:927) - indexed:            8,255\n",
      "2021-11-05 17:39:04,504 INFO  [main] index.IndexCollection (IndexCollection.java:928) - unindexable:            0\n",
      "2021-11-05 17:39:04,504 INFO  [main] index.IndexCollection (IndexCollection.java:929) - empty:                  0\n",
      "2021-11-05 17:39:04,504 INFO  [main] index.IndexCollection (IndexCollection.java:930) - skipped:                0\n",
      "2021-11-05 17:39:04,504 INFO  [main] index.IndexCollection (IndexCollection.java:931) - errors:                 0\n",
      "2021-11-05 17:39:04,519 INFO  [main] index.IndexCollection (IndexCollection.java:934) - Total 8,255 documents indexed in 00:00:02\n"
     ]
    }
   ],
   "source": [
    "! python -m pyserini.index -collection JsonCollection \\\n",
    "                          -generator DefaultLuceneDocumentGenerator \\\n",
    "                           -threads 1 \\\n",
    "                           -input documents/ \\\n",
    "                           -index indexes/ \\\n",
    "                           -storePositions -storeDocvectors -storeRaw    "
   ]
  },
  {
   "cell_type": "code",
   "execution_count": 24,
   "id": "nominated-growing",
   "metadata": {},
   "outputs": [],
   "source": [
    "from pyserini.index import IndexReader\n",
    "index_reader = IndexReader('indexes/')"
   ]
  },
  {
   "cell_type": "code",
   "execution_count": 119,
   "id": "contemporary-accordance",
   "metadata": {},
   "outputs": [
    {
     "data": {
      "text/html": [
       "<div>\n",
       "<style scoped>\n",
       "    .dataframe tbody tr th:only-of-type {\n",
       "        vertical-align: middle;\n",
       "    }\n",
       "\n",
       "    .dataframe tbody tr th {\n",
       "        vertical-align: top;\n",
       "    }\n",
       "\n",
       "    .dataframe thead th {\n",
       "        text-align: right;\n",
       "    }\n",
       "</style>\n",
       "<table border=\"1\" class=\"dataframe\">\n",
       "  <thead>\n",
       "    <tr style=\"text-align: right;\">\n",
       "      <th></th>\n",
       "      <th>docid</th>\n",
       "      <th>score</th>\n",
       "    </tr>\n",
       "  </thead>\n",
       "  <tbody>\n",
       "  </tbody>\n",
       "</table>\n",
       "</div>"
      ],
      "text/plain": [
       "Empty DataFrame\n",
       "Columns: [docid, score]\n",
       "Index: []"
      ]
     },
     "execution_count": 119,
     "metadata": {},
     "output_type": "execute_result"
    }
   ],
   "source": [
    "query = 'I would like to reconstruct 3D models from images. '\n",
    "docids = list(df.id.astype('str'))\n",
    "\n",
    "result = pd.DataFrame(columns=['docid', 'score'])\n",
    "counter = 0\n",
    "\n",
    "result\n"
   ]
  },
  {
   "cell_type": "code",
   "execution_count": 120,
   "id": "unexpected-parliament",
   "metadata": {},
   "outputs": [],
   "source": [
    "for i in range(0, len(docids)):\n",
    "    score = index_reader.compute_query_document_score(docids[i], query)\n",
    "    result.loc[counter] = [docids[i], score]\n",
    "    counter+=1"
   ]
  },
  {
   "cell_type": "code",
   "execution_count": 121,
   "id": "electric-liver",
   "metadata": {},
   "outputs": [
    {
     "data": {
      "text/plain": [
       "2          2\n",
       "4726    5210\n",
       "7069    7779\n",
       "106      106\n",
       "135      136\n",
       "346      355\n",
       "373      383\n",
       "391      403\n",
       "171      172\n",
       "1916    2061\n",
       "1167    1237\n",
       "2787    3045\n",
       "224      228\n",
       "69        69\n",
       "7063    7773\n",
       "1919    2064\n",
       "3298    3606\n",
       "29        29\n",
       "87        87\n",
       "372      382\n",
       "Name: docid, dtype: object"
      ]
     },
     "execution_count": 121,
     "metadata": {},
     "output_type": "execute_result"
    }
   ],
   "source": [
    "result.sort_values(['score'], ascending = False).docid[0:20]"
   ]
  },
  {
   "cell_type": "code",
   "execution_count": 122,
   "id": "piano-priority",
   "metadata": {},
   "outputs": [],
   "source": [
    "L = list(result.sort_values(['score'], ascending = False).docid[0:20])"
   ]
  },
  {
   "cell_type": "code",
   "execution_count": 123,
   "id": "temporal-pennsylvania",
   "metadata": {},
   "outputs": [],
   "source": [
    "for i in range(len(L)):\n",
    "    L[i] = int(L[i])"
   ]
  },
  {
   "cell_type": "code",
   "execution_count": 131,
   "id": "outstanding-chancellor",
   "metadata": {},
   "outputs": [],
   "source": [
    "query_result = list(df[df.id.isin(L)].contents)"
   ]
  },
  {
   "cell_type": "code",
   "execution_count": 148,
   "id": "attempted-worthy",
   "metadata": {},
   "outputs": [],
   "source": [
    "df_test = pd.read_csv('test_set.csv')\n",
    "df_test.columns = ['Query', 'Unnamed: 1', 'Unnamed: 2', 'title', 'Unnamed: 4',\n",
    "       'Unnamed: 5', 'Unnamed: 6', 'Unnamed: 7', 'Unnamed: 8', 'Unnamed: 9',\n",
    "       'Unnamed: 10', 'Unnamed: 11', 'Unnamed: 12', 'abstract']\n",
    "all_list = list(df_test[df_test.Query == query].abstract)\n",
    "rank_result = []\n",
    "for i in range(20):\n",
    "    if query_result[i] in all_list:\n",
    "        ind = all_list.index(query_result[i])\n",
    "        if ind < 20:\n",
    "            rank_result.append(5)\n",
    "        elif 20 <= ind < 40:\n",
    "            rank_result.append(4)\n",
    "        elif 40 <= ind < 60:\n",
    "            rank_result.append(3)\n",
    "        elif 60 <= ind < 80:\n",
    "            rank_result.append(2)\n",
    "        else:\n",
    "            rank_result.append(1)\n",
    "    else:\n",
    "        rank_result.append(0)"
   ]
  },
  {
   "cell_type": "code",
   "execution_count": 149,
   "id": "tested-digest",
   "metadata": {},
   "outputs": [
    {
     "data": {
      "text/plain": [
       "[0, 4, 0, 1, 0, 0, 0, 0, 0, 0, 0, 0, 0, 0, 0, 0, 0, 0, 0, 0]"
      ]
     },
     "execution_count": 149,
     "metadata": {},
     "output_type": "execute_result"
    }
   ],
   "source": [
    "rank_result"
   ]
  },
  {
   "cell_type": "code",
   "execution_count": 171,
   "id": "municipal-authentication",
   "metadata": {},
   "outputs": [
    {
     "name": "stdout",
     "output_type": "stream",
     "text": [
      "0.9\n"
     ]
    }
   ],
   "source": [
    "import math\n",
    "DCG = 0\n",
    "for i in range(len(rank_result)):\n",
    "    if i == 0:\n",
    "        DCG += rank_result[i]\n",
    "    else:\n",
    "        DCG += (rank_result[i]) / math.log(1 + i, 2)\n",
    "IDCG = 0\n",
    "s_list = sorted(rank_result, reverse = True)\n",
    "for i in range(len(s_list)):\n",
    "    if i == 0:\n",
    "        IDCG += s_list[i]\n",
    "    else:\n",
    "        IDCG += (s_list[i]) / math.log(1 + i, 2)\n",
    "print(DCG / IDCG)"
   ]
  },
  {
   "cell_type": "code",
   "execution_count": 200,
   "id": "comparable-strike",
   "metadata": {},
   "outputs": [],
   "source": [
    "def calculate_query_NDCG(df, query):\n",
    "    from pyserini.index import IndexReader\n",
    "    index_reader = IndexReader('indexes/')\n",
    "    docids = list(df.id.astype('str'))\n",
    "    result = pd.DataFrame(columns=['docid', 'score'])\n",
    "    counter = 0\n",
    "    for i in range(0, len(docids)):\n",
    "        score = index_reader.compute_query_document_score(docids[i], query)\n",
    "        result.loc[counter] = [docids[i], score]\n",
    "        counter+=1\n",
    "    L = list(result.sort_values(['score'], ascending = False).docid[0:20])\n",
    "    for i in range(len(L)):\n",
    "        L[i] = int(L[i])\n",
    "    query_result = list(df[df.id.isin(L)].contents)\n",
    "    df_test = pd.read_csv('test_set.csv')\n",
    "    df_test.columns = ['Query', 'Unnamed: 1', 'Unnamed: 2', 'title', 'Unnamed: 4',\n",
    "           'Unnamed: 5', 'Unnamed: 6', 'Unnamed: 7', 'Unnamed: 8', 'Unnamed: 9',\n",
    "           'Unnamed: 10', 'Unnamed: 11', 'Unnamed: 12', 'abstract']\n",
    "    all_list = list(df_test[df_test.Query == query].abstract)\n",
    "    rank_result = []\n",
    "    for i in range(20):\n",
    "        if query_result[i] in all_list:\n",
    "            ind = all_list.index(query_result[i])\n",
    "            if ind < 20:\n",
    "                rank_result.append(5)\n",
    "            elif 20 <= ind < 40:\n",
    "                rank_result.append(4)\n",
    "            elif 40 <= ind < 60:\n",
    "                rank_result.append(3)\n",
    "            elif 60 <= ind < 80:\n",
    "                rank_result.append(2)\n",
    "            else:\n",
    "                rank_result.append(1)\n",
    "        else:\n",
    "            rank_result.append(0)\n",
    "    print('Relevance: ',rank_result)\n",
    "    import math\n",
    "    DCG = 0\n",
    "    for i in range(len(rank_result)):\n",
    "        if i == 0:\n",
    "            DCG += rank_result[i]\n",
    "        else:\n",
    "            DCG += (rank_result[i]) / math.log(1 + i, 2)\n",
    "    IDCG = 0\n",
    "    s_list = sorted(rank_result, reverse = True)\n",
    "    for i in range(len(s_list)):\n",
    "        if i == 0:\n",
    "            IDCG += s_list[i]\n",
    "        else:\n",
    "            IDCG += (s_list[i]) / math.log(1 + i, 2)\n",
    "    if IDCG == 0:\n",
    "        return 1\n",
    "    return DCG / IDCG"
   ]
  },
  {
   "cell_type": "code",
   "execution_count": 190,
   "id": "pursuant-summary",
   "metadata": {},
   "outputs": [],
   "source": [
    "df_test = pd.read_csv('test_set.csv')"
   ]
  },
  {
   "cell_type": "code",
   "execution_count": 191,
   "id": "formal-reunion",
   "metadata": {},
   "outputs": [],
   "source": [
    "df_test = pd.read_csv('test_set.csv')\n",
    "df_test.columns = ['Query', 'Unnamed: 1', 'Unnamed: 2', 'title', 'Unnamed: 4',\n",
    "           'Unnamed: 5', 'Unnamed: 6', 'Unnamed: 7', 'Unnamed: 8', 'Unnamed: 9',\n",
    "           'Unnamed: 10', 'Unnamed: 11', 'Unnamed: 12', 'abstract']"
   ]
  },
  {
   "cell_type": "code",
   "execution_count": 201,
   "id": "loved-penetration",
   "metadata": {},
   "outputs": [
    {
     "name": "stdout",
     "output_type": "stream",
     "text": [
      "Query 1\n",
      "Relevance:  [0, 4, 0, 1, 0, 0, 0, 0, 0, 0, 0, 0, 0, 0, 0, 0, 0, 0, 0, 0]\n",
      "NDCG: 0.9\n",
      "Query 2\n",
      "Relevance:  [4, 2, 0, 0, 0, 0, 0, 0, 0, 0, 0, 0, 0, 0, 0, 0, 0, 0, 0, 0]\n",
      "NDCG: 1.0\n",
      "Query 3\n",
      "Relevance:  [2, 0, 0, 0, 0, 0, 0, 0, 0, 0, 0, 0, 0, 0, 0, 0, 0, 0, 0, 0]\n",
      "NDCG: 1.0\n",
      "Query 4\n",
      "Relevance:  [4, 3, 0, 0, 0, 0, 0, 0, 0, 0, 0, 0, 0, 0, 0, 0, 0, 0, 0, 0]\n",
      "NDCG: 1.0\n",
      "Query 5\n",
      "Relevance:  [0, 0, 0, 0, 3, 3, 0, 0, 0, 0, 0, 0, 0, 0, 0, 0, 0, 0, 0, 0]\n",
      "NDCG: 0.4087646826539674\n",
      "Query 6\n",
      "Relevance:  [5, 4, 4, 4, 4, 4, 4, 3, 1, 1, 0, 0, 0, 0, 0, 0, 0, 0, 0, 0]\n",
      "NDCG: 1.0\n",
      "Query 7\n",
      "Relevance:  [0, 0, 0, 0, 0, 0, 0, 0, 0, 0, 0, 0, 0, 0, 0, 0, 0, 0, 0, 0]\n",
      "NDCG: 1\n",
      "Query 8\n",
      "Relevance:  [0, 0, 0, 1, 0, 0, 0, 0, 0, 0, 0, 0, 0, 0, 0, 0, 0, 0, 0, 0]\n",
      "NDCG: 0.5\n",
      "Query 9\n",
      "Relevance:  [5, 5, 4, 0, 0, 0, 1, 0, 0, 0, 0, 0, 0, 0, 0, 0, 0, 0, 4, 0]\n",
      "NDCG: 0.9242474420301763\n",
      "Query 10\n",
      "Relevance:  [0, 0, 0, 0, 0, 0, 0, 0, 1, 0, 0, 0, 0, 0, 0, 0, 0, 0, 0, 0]\n",
      "NDCG: 0.3154648767857287\n",
      "Query 11\n",
      "Relevance:  [0, 0, 0, 0, 0, 0, 0, 0, 2, 0, 0, 0, 0, 0, 0, 0, 0, 0, 0, 0]\n",
      "NDCG: 0.3154648767857287\n",
      "Query 12\n",
      "Relevance:  [0, 0, 0, 0, 0, 0, 0, 0, 0, 0, 0, 0, 0, 0, 0, 0, 0, 0, 0, 0]\n",
      "NDCG: 1\n",
      "Query 13\n",
      "Relevance:  [0, 0, 0, 0, 0, 0, 0, 0, 5, 4, 1, 0, 0, 0, 0, 0, 0, 0, 0, 0]\n",
      "NDCG: 0.3188175255627643\n",
      "Query 14\n",
      "Relevance:  [0, 0, 0, 0, 0, 0, 0, 0, 0, 0, 0, 0, 0, 0, 0, 0, 0, 0, 0, 0]\n",
      "NDCG: 1\n",
      "Query 15\n",
      "Relevance:  [0, 0, 0, 0, 0, 0, 0, 0, 0, 5, 0, 0, 0, 0, 0, 0, 0, 0, 0, 0]\n",
      "NDCG: 0.30102999566398114\n",
      "Query 16\n",
      "Relevance:  [0, 0, 0, 0, 0, 0, 5, 0, 0, 0, 0, 0, 0, 0, 0, 0, 0, 0, 0, 0]\n",
      "NDCG: 0.3562071871080222\n",
      "Query 17\n",
      "Relevance:  [0, 0, 0, 0, 0, 0, 0, 0, 0, 0, 0, 0, 0, 0, 0, 0, 0, 0, 0, 0]\n",
      "NDCG: 1\n",
      "Query 18\n",
      "Relevance:  [0, 0, 4, 0, 4, 4, 0, 1, 4, 4, 4, 0, 0, 0, 0, 0, 0, 0, 0, 0]\n",
      "NDCG: 0.6036769192447052\n",
      "Query 19\n",
      "Relevance:  [0, 0, 0, 0, 0, 0, 0, 0, 0, 0, 0, 0, 0, 0, 0, 0, 0, 0, 0, 0]\n",
      "NDCG: 1\n",
      "Query 20\n",
      "Relevance:  [0, 0, 1, 0, 3, 2, 1, 1, 0, 0, 0, 0, 0, 0, 0, 0, 0, 0, 0, 0]\n",
      "NDCG: 0.5160635066892986\n",
      "Query 21\n",
      "Relevance:  [5, 4, 0, 0, 3, 1, 1, 1, 1, 0, 0, 0, 0, 0, 0, 0, 0, 0, 0, 0]\n",
      "NDCG: 0.9297627723386932\n",
      "Query 22\n",
      "Relevance:  [0, 0, 0, 0, 0, 0, 2, 4, 1, 1, 0, 0, 0, 0, 0, 0, 0, 0, 0, 0]\n",
      "NDCG: 0.37333737282515356\n",
      "Query 23\n",
      "Relevance:  [0, 0, 0, 0, 0, 0, 0, 0, 0, 0, 0, 0, 0, 0, 0, 0, 0, 0, 0, 2]\n",
      "NDCG: 0.23137821315975915\n",
      "Query 24\n",
      "Relevance:  [5, 5, 5, 5, 5, 4, 4, 5, 3, 5, 0, 0, 0, 0, 0, 0, 0, 0, 0, 5]\n",
      "NDCG: 0.9823626568608486\n",
      "Query 25\n",
      "Relevance:  [0, 0, 0, 0, 1, 0, 0, 0, 0, 0, 0, 0, 5, 5, 5, 4, 3, 3, 1, 0]\n",
      "NDCG: 0.38606268855639425\n",
      "Query 26\n",
      "Relevance:  [0, 0, 0, 0, 0, 0, 0, 0, 0, 0, 0, 0, 5, 5, 4, 3, 0, 0, 0, 0]\n",
      "NDCG: 0.31648313418434904\n",
      "Query 27\n",
      "Relevance:  [0, 0, 0, 0, 0, 0, 0, 0, 0, 0, 0, 2, 2, 1, 0, 0, 0, 0, 0, 0]\n",
      "NDCG: 0.2938960009368433\n",
      "Query 28\n",
      "Relevance:  [0, 0, 0, 0, 0, 0, 0, 0, 0, 0, 0, 0, 0, 0, 0, 0, 0, 0, 0, 0]\n",
      "NDCG: 1\n",
      "Query 29\n",
      "Relevance:  [0, 0, 0, 0, 3, 3, 3, 2, 2, 1, 0, 0, 0, 0, 0, 0, 0, 0, 0, 0]\n",
      "NDCG: 0.504865250422316\n",
      "Query 30\n",
      "Relevance:  [0, 0, 0, 0, 0, 0, 0, 0, 0, 0, 0, 0, 0, 0, 0, 0, 0, 0, 2, 0]\n",
      "NDCG: 0.23540891336663824\n"
     ]
    }
   ],
   "source": [
    "counter = 1\n",
    "total_NDCG = 0\n",
    "for query in list(df_test.Query.drop_duplicates()):\n",
    "    print('Query', counter)\n",
    "    counter += 1\n",
    "    val = calculate_query_NDCG(df, query)\n",
    "    print(f'NDCG: {val}')\n",
    "    total_NDCG += val"
   ]
  },
  {
   "cell_type": "code",
   "execution_count": 202,
   "id": "divine-framework",
   "metadata": {},
   "outputs": [
    {
     "data": {
      "text/plain": [
       "0.6571098005058454"
      ]
     },
     "execution_count": 202,
     "metadata": {},
     "output_type": "execute_result"
    }
   ],
   "source": [
    "total_NDCG / 30"
   ]
  }
 ],
 "metadata": {
  "kernelspec": {
   "display_name": "Python 3",
   "language": "python",
   "name": "python3"
  },
  "language_info": {
   "codemirror_mode": {
    "name": "ipython",
    "version": 3
   },
   "file_extension": ".py",
   "mimetype": "text/x-python",
   "name": "python",
   "nbconvert_exporter": "python",
   "pygments_lexer": "ipython3",
   "version": "3.7.4"
  }
 },
 "nbformat": 4,
 "nbformat_minor": 5
}
